{
 "cells": [
  {
   "cell_type": "code",
   "execution_count": 1,
   "id": "56d548b4-dc9a-428c-8191-7917327edfd1",
   "metadata": {},
   "outputs": [],
   "source": [
    "import os\n",
    "import pandas as pd\n",
    "import seaborn as sns"
   ]
  },
  {
   "cell_type": "code",
   "execution_count": 2,
   "id": "f2e7ed22-fe94-44b8-8aee-2943f0e34baa",
   "metadata": {},
   "outputs": [],
   "source": [
    "files = os.listdir()"
   ]
  },
  {
   "cell_type": "code",
   "execution_count": 3,
   "id": "8b92fc97-fd27-4f08-a1a2-280288934708",
   "metadata": {},
   "outputs": [],
   "source": [
    "res = [file for file in files if file.endswith('.csv')]"
   ]
  },
  {
   "cell_type": "code",
   "execution_count": 4,
   "id": "42f7c6b1-17a9-437e-a55a-1997a785d472",
   "metadata": {},
   "outputs": [],
   "source": [
    "not_fall_files = [file for file in res if not('backwardFall' in file or 'lateralFall' in file or 'forwardFall' in file)]"
   ]
  },
  {
   "cell_type": "code",
   "execution_count": 5,
   "id": "d1c47749-e290-4270-be50-2bacc58e7bb5",
   "metadata": {},
   "outputs": [],
   "source": [
    "fall_files = [file for file in res if 'backwardFall' in file or 'lateralFall' in file or 'forwardFall' in file]"
   ]
  },
  {
   "cell_type": "code",
   "execution_count": 6,
   "id": "fe4fecef-5015-42ee-80da-7053f8a8dea1",
   "metadata": {},
   "outputs": [],
   "source": [
    "master_not_fall_dfs = []"
   ]
  },
  {
   "cell_type": "code",
   "execution_count": 7,
   "id": "103de54f-de57-4a16-b0e4-576ff426aa5d",
   "metadata": {},
   "outputs": [],
   "source": [
    "for file in not_fall_files:\n",
    "    temp_data = pd.read_csv(file, skiprows=40, on_bad_lines='skip', delimiter = ';')\n",
    "    temp_data.columns = temp_data.columns.str.lower()\n",
    "    temp_data.columns = temp_data.columns.str.replace('%', '')\n",
    "    temp_data.columns = temp_data.columns.str.strip()\n",
    "    temp_data.columns = temp_data.columns.str.replace(' ', '_')\n",
    "    \n",
    "    master_not_fall_dfs.append(temp_data)"
   ]
  },
  {
   "cell_type": "code",
   "execution_count": 8,
   "id": "2e581891-3dc4-4968-911e-df2e11210824",
   "metadata": {},
   "outputs": [],
   "source": [
    "master_not_fall_df = pd.concat(master_not_fall_dfs, ignore_index=True)"
   ]
  },
  {
   "cell_type": "code",
   "execution_count": 9,
   "id": "f5755d30-6b50-4b03-8dd8-061102a32f9a",
   "metadata": {},
   "outputs": [],
   "source": [
    "master_not_fall_df.drop(columns=[''], inplace=True)"
   ]
  },
  {
   "cell_type": "code",
   "execution_count": 10,
   "id": "03442774-8eb4-4f87-91b2-e2f21fc2d096",
   "metadata": {},
   "outputs": [],
   "source": [
    "master_not_fall_df['fall'] = 0"
   ]
  },
  {
   "cell_type": "code",
   "execution_count": 11,
   "id": "8169bc99-065b-4bb8-a1d8-639bd6a9d6cf",
   "metadata": {},
   "outputs": [],
   "source": [
    "master_not_fall_df = master_not_fall_df[master_not_fall_df['sensor_id'] == 3]"
   ]
  },
  {
   "cell_type": "code",
   "execution_count": 12,
   "id": "599bdf1b-7f3d-4ab3-a9db-dafe33fe6af7",
   "metadata": {},
   "outputs": [
    {
     "data": {
      "text/html": [
       "<div>\n",
       "<style scoped>\n",
       "    .dataframe tbody tr th:only-of-type {\n",
       "        vertical-align: middle;\n",
       "    }\n",
       "\n",
       "    .dataframe tbody tr th {\n",
       "        vertical-align: top;\n",
       "    }\n",
       "\n",
       "    .dataframe thead th {\n",
       "        text-align: right;\n",
       "    }\n",
       "</style>\n",
       "<table border=\"1\" class=\"dataframe\">\n",
       "  <thead>\n",
       "    <tr style=\"text-align: right;\">\n",
       "      <th></th>\n",
       "      <th>timestamp</th>\n",
       "      <th>sample_no</th>\n",
       "      <th>x-axis</th>\n",
       "      <th>y-axis</th>\n",
       "      <th>z-axis</th>\n",
       "      <th>sensor_type</th>\n",
       "      <th>sensor_id</th>\n",
       "      <th>fall</th>\n",
       "    </tr>\n",
       "  </thead>\n",
       "  <tbody>\n",
       "    <tr>\n",
       "      <th>4768</th>\n",
       "      <td>111</td>\n",
       "      <td>0</td>\n",
       "      <td>-0.736572</td>\n",
       "      <td>0.518311</td>\n",
       "      <td>0.372559</td>\n",
       "      <td>0</td>\n",
       "      <td>3</td>\n",
       "      <td>0</td>\n",
       "    </tr>\n",
       "    <tr>\n",
       "      <th>4769</th>\n",
       "      <td>145</td>\n",
       "      <td>1</td>\n",
       "      <td>-0.734863</td>\n",
       "      <td>0.520508</td>\n",
       "      <td>0.444824</td>\n",
       "      <td>0</td>\n",
       "      <td>3</td>\n",
       "      <td>0</td>\n",
       "    </tr>\n",
       "    <tr>\n",
       "      <th>4770</th>\n",
       "      <td>150</td>\n",
       "      <td>2</td>\n",
       "      <td>-0.734863</td>\n",
       "      <td>0.520508</td>\n",
       "      <td>0.444824</td>\n",
       "      <td>0</td>\n",
       "      <td>3</td>\n",
       "      <td>0</td>\n",
       "    </tr>\n",
       "    <tr>\n",
       "      <th>4771</th>\n",
       "      <td>228</td>\n",
       "      <td>3</td>\n",
       "      <td>-0.727295</td>\n",
       "      <td>0.523193</td>\n",
       "      <td>0.370361</td>\n",
       "      <td>0</td>\n",
       "      <td>3</td>\n",
       "      <td>0</td>\n",
       "    </tr>\n",
       "    <tr>\n",
       "      <th>4772</th>\n",
       "      <td>232</td>\n",
       "      <td>4</td>\n",
       "      <td>-0.727295</td>\n",
       "      <td>0.523193</td>\n",
       "      <td>0.370361</td>\n",
       "      <td>0</td>\n",
       "      <td>3</td>\n",
       "      <td>0</td>\n",
       "    </tr>\n",
       "    <tr>\n",
       "      <th>...</th>\n",
       "      <td>...</td>\n",
       "      <td>...</td>\n",
       "      <td>...</td>\n",
       "      <td>...</td>\n",
       "      <td>...</td>\n",
       "      <td>...</td>\n",
       "      <td>...</td>\n",
       "      <td>...</td>\n",
       "    </tr>\n",
       "    <tr>\n",
       "      <th>3384463</th>\n",
       "      <td>14770</td>\n",
       "      <td>295</td>\n",
       "      <td>26.0</td>\n",
       "      <td>-6.5</td>\n",
       "      <td>-172.333328</td>\n",
       "      <td>2</td>\n",
       "      <td>3</td>\n",
       "      <td>0</td>\n",
       "    </tr>\n",
       "    <tr>\n",
       "      <th>3384464</th>\n",
       "      <td>14832</td>\n",
       "      <td>296</td>\n",
       "      <td>28.5</td>\n",
       "      <td>-7.166667</td>\n",
       "      <td>-127.0</td>\n",
       "      <td>2</td>\n",
       "      <td>3</td>\n",
       "      <td>0</td>\n",
       "    </tr>\n",
       "    <tr>\n",
       "      <th>3384465</th>\n",
       "      <td>14896</td>\n",
       "      <td>297</td>\n",
       "      <td>26.666666</td>\n",
       "      <td>-7.5</td>\n",
       "      <td>-122.833336</td>\n",
       "      <td>2</td>\n",
       "      <td>3</td>\n",
       "      <td>0</td>\n",
       "    </tr>\n",
       "    <tr>\n",
       "      <th>3384466</th>\n",
       "      <td>14949</td>\n",
       "      <td>298</td>\n",
       "      <td>25.833334</td>\n",
       "      <td>-11.0</td>\n",
       "      <td>-123.666664</td>\n",
       "      <td>2</td>\n",
       "      <td>3</td>\n",
       "      <td>0</td>\n",
       "    </tr>\n",
       "    <tr>\n",
       "      <th>3384467</th>\n",
       "      <td>14995</td>\n",
       "      <td>299</td>\n",
       "      <td>23.0</td>\n",
       "      <td>-12.333333</td>\n",
       "      <td>-171.0</td>\n",
       "      <td>2</td>\n",
       "      <td>3</td>\n",
       "      <td>0</td>\n",
       "    </tr>\n",
       "  </tbody>\n",
       "</table>\n",
       "<p>479535 rows × 8 columns</p>\n",
       "</div>"
      ],
      "text/plain": [
       "         timestamp  sample_no     x-axis     y-axis      z-axis  sensor_type  \\\n",
       "4768           111          0  -0.736572   0.518311    0.372559            0   \n",
       "4769           145          1  -0.734863   0.520508    0.444824            0   \n",
       "4770           150          2  -0.734863   0.520508    0.444824            0   \n",
       "4771           228          3  -0.727295   0.523193    0.370361            0   \n",
       "4772           232          4  -0.727295   0.523193    0.370361            0   \n",
       "...            ...        ...        ...        ...         ...          ...   \n",
       "3384463      14770        295       26.0       -6.5 -172.333328            2   \n",
       "3384464      14832        296       28.5  -7.166667      -127.0            2   \n",
       "3384465      14896        297  26.666666       -7.5 -122.833336            2   \n",
       "3384466      14949        298  25.833334      -11.0 -123.666664            2   \n",
       "3384467      14995        299       23.0 -12.333333      -171.0            2   \n",
       "\n",
       "         sensor_id  fall  \n",
       "4768             3     0  \n",
       "4769             3     0  \n",
       "4770             3     0  \n",
       "4771             3     0  \n",
       "4772             3     0  \n",
       "...            ...   ...  \n",
       "3384463          3     0  \n",
       "3384464          3     0  \n",
       "3384465          3     0  \n",
       "3384466          3     0  \n",
       "3384467          3     0  \n",
       "\n",
       "[479535 rows x 8 columns]"
      ]
     },
     "execution_count": 12,
     "metadata": {},
     "output_type": "execute_result"
    }
   ],
   "source": [
    "master_not_fall_df"
   ]
  },
  {
   "cell_type": "code",
   "execution_count": 13,
   "id": "666e8b89-d36c-4186-941a-906917636520",
   "metadata": {},
   "outputs": [],
   "source": [
    "master_fall_dfs = []"
   ]
  },
  {
   "cell_type": "code",
   "execution_count": 14,
   "id": "97856b55-d6c6-4cd2-8136-af11175b9ab8",
   "metadata": {},
   "outputs": [],
   "source": [
    "for file in fall_files:\n",
    "    temp_data = pd.read_csv(file, skiprows=40, on_bad_lines='skip', delimiter = ';')\n",
    "    temp_data.columns = temp_data.columns.str.lower()\n",
    "    temp_data.columns = temp_data.columns.str.replace('%', '')\n",
    "    temp_data.columns = temp_data.columns.str.strip()\n",
    "    temp_data.columns = temp_data.columns.str.replace(' ', '_')\n",
    "    \n",
    "    master_fall_dfs.append(temp_data)"
   ]
  },
  {
   "cell_type": "code",
   "execution_count": 15,
   "id": "ea4fd1c3-e825-4172-aadf-4e75a51afbc5",
   "metadata": {},
   "outputs": [],
   "source": [
    "master_fall_df = pd.concat(master_fall_dfs, ignore_index=True)"
   ]
  },
  {
   "cell_type": "code",
   "execution_count": 16,
   "id": "7c5504d8-41ca-438f-8e1a-885fab5cd832",
   "metadata": {},
   "outputs": [],
   "source": [
    "master_fall_df.drop(columns=[''], inplace=True)"
   ]
  },
  {
   "cell_type": "code",
   "execution_count": 17,
   "id": "8b87774d-4d27-4e6d-a58a-25839738e587",
   "metadata": {},
   "outputs": [],
   "source": [
    "master_fall_df['fall'] = 1"
   ]
  },
  {
   "cell_type": "code",
   "execution_count": 18,
   "id": "3056f9f9-3d20-45c2-b5eb-db33cdab6c2a",
   "metadata": {},
   "outputs": [],
   "source": [
    "master_fall_df = master_fall_df[master_fall_df['sensor_id'] == 3]"
   ]
  },
  {
   "cell_type": "code",
   "execution_count": 19,
   "id": "f50be348-24fa-45e3-ad18-319194b54747",
   "metadata": {},
   "outputs": [
    {
     "data": {
      "text/html": [
       "<div>\n",
       "<style scoped>\n",
       "    .dataframe tbody tr th:only-of-type {\n",
       "        vertical-align: middle;\n",
       "    }\n",
       "\n",
       "    .dataframe tbody tr th {\n",
       "        vertical-align: top;\n",
       "    }\n",
       "\n",
       "    .dataframe thead th {\n",
       "        text-align: right;\n",
       "    }\n",
       "</style>\n",
       "<table border=\"1\" class=\"dataframe\">\n",
       "  <thead>\n",
       "    <tr style=\"text-align: right;\">\n",
       "      <th></th>\n",
       "      <th>timestamp</th>\n",
       "      <th>sample_no</th>\n",
       "      <th>x-axis</th>\n",
       "      <th>y-axis</th>\n",
       "      <th>z-axis</th>\n",
       "      <th>sensor_type</th>\n",
       "      <th>sensor_id</th>\n",
       "      <th>fall</th>\n",
       "    </tr>\n",
       "  </thead>\n",
       "  <tbody>\n",
       "    <tr>\n",
       "      <th>4777</th>\n",
       "      <td>160</td>\n",
       "      <td>0</td>\n",
       "      <td>-0.931641</td>\n",
       "      <td>-0.162598</td>\n",
       "      <td>0.198730</td>\n",
       "      <td>0</td>\n",
       "      <td>3</td>\n",
       "      <td>1</td>\n",
       "    </tr>\n",
       "    <tr>\n",
       "      <th>4778</th>\n",
       "      <td>185</td>\n",
       "      <td>1</td>\n",
       "      <td>-0.931641</td>\n",
       "      <td>-0.162598</td>\n",
       "      <td>0.198730</td>\n",
       "      <td>0</td>\n",
       "      <td>3</td>\n",
       "      <td>1</td>\n",
       "    </tr>\n",
       "    <tr>\n",
       "      <th>4779</th>\n",
       "      <td>216</td>\n",
       "      <td>2</td>\n",
       "      <td>-0.929199</td>\n",
       "      <td>-0.167725</td>\n",
       "      <td>0.190430</td>\n",
       "      <td>0</td>\n",
       "      <td>3</td>\n",
       "      <td>1</td>\n",
       "    </tr>\n",
       "    <tr>\n",
       "      <th>4780</th>\n",
       "      <td>232</td>\n",
       "      <td>3</td>\n",
       "      <td>-0.929199</td>\n",
       "      <td>-0.167725</td>\n",
       "      <td>0.190430</td>\n",
       "      <td>0</td>\n",
       "      <td>3</td>\n",
       "      <td>1</td>\n",
       "    </tr>\n",
       "    <tr>\n",
       "      <th>4781</th>\n",
       "      <td>290</td>\n",
       "      <td>4</td>\n",
       "      <td>-0.935303</td>\n",
       "      <td>-0.165039</td>\n",
       "      <td>0.192139</td>\n",
       "      <td>0</td>\n",
       "      <td>3</td>\n",
       "      <td>1</td>\n",
       "    </tr>\n",
       "    <tr>\n",
       "      <th>...</th>\n",
       "      <td>...</td>\n",
       "      <td>...</td>\n",
       "      <td>...</td>\n",
       "      <td>...</td>\n",
       "      <td>...</td>\n",
       "      <td>...</td>\n",
       "      <td>...</td>\n",
       "      <td>...</td>\n",
       "    </tr>\n",
       "    <tr>\n",
       "      <th>1302041</th>\n",
       "      <td>14625</td>\n",
       "      <td>277</td>\n",
       "      <td>-10.000000</td>\n",
       "      <td>22.833334</td>\n",
       "      <td>-116.333336</td>\n",
       "      <td>2</td>\n",
       "      <td>3</td>\n",
       "      <td>1</td>\n",
       "    </tr>\n",
       "    <tr>\n",
       "      <th>1302042</th>\n",
       "      <td>14719</td>\n",
       "      <td>278</td>\n",
       "      <td>-9.166667</td>\n",
       "      <td>22.833334</td>\n",
       "      <td>-116.333336</td>\n",
       "      <td>2</td>\n",
       "      <td>3</td>\n",
       "      <td>1</td>\n",
       "    </tr>\n",
       "    <tr>\n",
       "      <th>1302043</th>\n",
       "      <td>14801</td>\n",
       "      <td>279</td>\n",
       "      <td>-7.166667</td>\n",
       "      <td>21.666666</td>\n",
       "      <td>-115.166664</td>\n",
       "      <td>2</td>\n",
       "      <td>3</td>\n",
       "      <td>1</td>\n",
       "    </tr>\n",
       "    <tr>\n",
       "      <th>1302044</th>\n",
       "      <td>14934</td>\n",
       "      <td>280</td>\n",
       "      <td>-10.166667</td>\n",
       "      <td>22.666666</td>\n",
       "      <td>-113.333336</td>\n",
       "      <td>2</td>\n",
       "      <td>3</td>\n",
       "      <td>1</td>\n",
       "    </tr>\n",
       "    <tr>\n",
       "      <th>1302045</th>\n",
       "      <td>15032</td>\n",
       "      <td>281</td>\n",
       "      <td>-9.166667</td>\n",
       "      <td>21.666666</td>\n",
       "      <td>-115.166664</td>\n",
       "      <td>2</td>\n",
       "      <td>3</td>\n",
       "      <td>1</td>\n",
       "    </tr>\n",
       "  </tbody>\n",
       "</table>\n",
       "<p>183429 rows × 8 columns</p>\n",
       "</div>"
      ],
      "text/plain": [
       "         timestamp  sample_no     x-axis     y-axis      z-axis  sensor_type  \\\n",
       "4777           160          0  -0.931641  -0.162598    0.198730            0   \n",
       "4778           185          1  -0.931641  -0.162598    0.198730            0   \n",
       "4779           216          2  -0.929199  -0.167725    0.190430            0   \n",
       "4780           232          3  -0.929199  -0.167725    0.190430            0   \n",
       "4781           290          4  -0.935303  -0.165039    0.192139            0   \n",
       "...            ...        ...        ...        ...         ...          ...   \n",
       "1302041      14625        277 -10.000000  22.833334 -116.333336            2   \n",
       "1302042      14719        278  -9.166667  22.833334 -116.333336            2   \n",
       "1302043      14801        279  -7.166667  21.666666 -115.166664            2   \n",
       "1302044      14934        280 -10.166667  22.666666 -113.333336            2   \n",
       "1302045      15032        281  -9.166667  21.666666 -115.166664            2   \n",
       "\n",
       "         sensor_id  fall  \n",
       "4777             3     1  \n",
       "4778             3     1  \n",
       "4779             3     1  \n",
       "4780             3     1  \n",
       "4781             3     1  \n",
       "...            ...   ...  \n",
       "1302041          3     1  \n",
       "1302042          3     1  \n",
       "1302043          3     1  \n",
       "1302044          3     1  \n",
       "1302045          3     1  \n",
       "\n",
       "[183429 rows x 8 columns]"
      ]
     },
     "execution_count": 19,
     "metadata": {},
     "output_type": "execute_result"
    }
   ],
   "source": [
    "master_fall_df"
   ]
  },
  {
   "cell_type": "code",
   "execution_count": 20,
   "id": "07980978-61be-4eb8-8f55-9186a1a4ead1",
   "metadata": {},
   "outputs": [],
   "source": [
    "df = pd.concat([master_fall_df, master_not_fall_df])"
   ]
  },
  {
   "cell_type": "code",
   "execution_count": 21,
   "id": "c826a0ac-44a0-408c-ad79-547e637ed90f",
   "metadata": {},
   "outputs": [],
   "source": [
    "df['x-axis'] = pd.to_numeric(df['x-axis'], errors='coerce')\n",
    "df['y-axis'] = pd.to_numeric(df['y-axis'], errors='coerce')\n",
    "df['z-axis'] = pd.to_numeric(df['z-axis'], errors='coerce')"
   ]
  },
  {
   "cell_type": "code",
   "execution_count": 22,
   "id": "ffd5b40c-caba-4060-a726-d8cfc82cf335",
   "metadata": {},
   "outputs": [],
   "source": [
    "df.ffill(inplace=True)"
   ]
  },
  {
   "cell_type": "code",
   "execution_count": 23,
   "id": "64a8f9c7-0631-44d5-845c-12929dfe1488",
   "metadata": {},
   "outputs": [],
   "source": [
    "from sklearn.ensemble import RandomForestClassifier, GradientBoostingClassifier\n",
    "from xgboost import XGBClassifier\n",
    "from sklearn.model_selection import train_test_split\n",
    "from sklearn.metrics import accuracy_score, precision_score, recall_score, f1_score"
   ]
  },
  {
   "cell_type": "code",
   "execution_count": 24,
   "id": "37f6e062-42c5-4f93-8c1b-09c5824d69ee",
   "metadata": {},
   "outputs": [],
   "source": [
    "X = df[['x-axis', 'y-axis', 'z-axis', 'sensor_type']]"
   ]
  },
  {
   "cell_type": "code",
   "execution_count": 25,
   "id": "4b906cdb-6e1c-446b-ba50-a162ba3afc8f",
   "metadata": {},
   "outputs": [],
   "source": [
    "y = df['fall']"
   ]
  },
  {
   "cell_type": "code",
   "execution_count": 26,
   "id": "e878ca50-30ec-4943-85c7-a3aaab311366",
   "metadata": {},
   "outputs": [],
   "source": [
    "X_train, X_test, y_train, y_test = train_test_split(X, y, test_size=0.2, random_state=42)"
   ]
  },
  {
   "cell_type": "code",
   "execution_count": 32,
   "id": "c2152303-4a8b-42d1-b552-3dac9ebb69fc",
   "metadata": {},
   "outputs": [],
   "source": [
    "rf_classifier = RandomForestClassifier(n_estimators=100, random_state=42)\n",
    "gb_classifier = GradientBoostingClassifier(n_estimators=100, learning_rate=0.1, random_state=42)\n",
    "xgb_classifier = XGBClassifier(n_estimators=100, learning_rate=0.1, random_state=42)"
   ]
  },
  {
   "cell_type": "code",
   "execution_count": 33,
   "id": "f1d83e1e-bc79-402b-8ac4-62148b50126e",
   "metadata": {},
   "outputs": [],
   "source": [
    "models = {\n",
    "    'Random Forest': rf_classifier,\n",
    "    'Gradient Boosting': gb_classifier,\n",
    "    'XGBoost': xgb_classifier\n",
    "}"
   ]
  },
  {
   "cell_type": "code",
   "execution_count": 34,
   "id": "167b8ead-af5e-42ee-9a61-d9ce7e788225",
   "metadata": {},
   "outputs": [],
   "source": [
    "results = []"
   ]
  },
  {
   "cell_type": "code",
   "execution_count": 35,
   "id": "ee7d873a-fb7a-4c82-9f6a-96bfe6b19d09",
   "metadata": {},
   "outputs": [],
   "source": [
    "for model_name, model in models.items():\n",
    "\n",
    "    model.fit(X_train, y_train)\n",
    "    \n",
    "    y_pred = model.predict(X_test)\n",
    "    \n",
    "    accuracy = accuracy_score(y_test, y_pred) * 100\n",
    "    precision = precision_score(y_test, y_pred, average='weighted') * 100\n",
    "    recall = recall_score(y_test, y_pred, average='weighted') * 100\n",
    "    f1 = f1_score(y_test, y_pred, average='weighted') * 100\n",
    "    \n",
    "    \n",
    "    results.append([model_name, accuracy, precision, recall, f1])"
   ]
  },
  {
   "cell_type": "code",
   "execution_count": 36,
   "id": "5f4c9ba1-9420-47c0-8e4a-c52a1a5b6c47",
   "metadata": {},
   "outputs": [
    {
     "data": {
      "text/html": [
       "<div>\n",
       "<style scoped>\n",
       "    .dataframe tbody tr th:only-of-type {\n",
       "        vertical-align: middle;\n",
       "    }\n",
       "\n",
       "    .dataframe tbody tr th {\n",
       "        vertical-align: top;\n",
       "    }\n",
       "\n",
       "    .dataframe thead th {\n",
       "        text-align: right;\n",
       "    }\n",
       "</style>\n",
       "<table border=\"1\" class=\"dataframe\">\n",
       "  <thead>\n",
       "    <tr style=\"text-align: right;\">\n",
       "      <th></th>\n",
       "      <th>Model</th>\n",
       "      <th>Accuracy</th>\n",
       "      <th>Precision</th>\n",
       "      <th>Recall</th>\n",
       "      <th>F1-Score</th>\n",
       "    </tr>\n",
       "  </thead>\n",
       "  <tbody>\n",
       "    <tr>\n",
       "      <th>0</th>\n",
       "      <td>Random Forest</td>\n",
       "      <td>87.594368</td>\n",
       "      <td>87.369288</td>\n",
       "      <td>87.594368</td>\n",
       "      <td>87.126518</td>\n",
       "    </tr>\n",
       "    <tr>\n",
       "      <th>1</th>\n",
       "      <td>Gradient Boosting</td>\n",
       "      <td>79.401628</td>\n",
       "      <td>78.496343</td>\n",
       "      <td>79.401628</td>\n",
       "      <td>77.158802</td>\n",
       "    </tr>\n",
       "    <tr>\n",
       "      <th>2</th>\n",
       "      <td>XGBoost</td>\n",
       "      <td>82.636338</td>\n",
       "      <td>82.075368</td>\n",
       "      <td>82.636338</td>\n",
       "      <td>81.429001</td>\n",
       "    </tr>\n",
       "  </tbody>\n",
       "</table>\n",
       "</div>"
      ],
      "text/plain": [
       "               Model   Accuracy  Precision     Recall   F1-Score\n",
       "0      Random Forest  87.594368  87.369288  87.594368  87.126518\n",
       "1  Gradient Boosting  79.401628  78.496343  79.401628  77.158802\n",
       "2            XGBoost  82.636338  82.075368  82.636338  81.429001"
      ]
     },
     "execution_count": 36,
     "metadata": {},
     "output_type": "execute_result"
    }
   ],
   "source": [
    "pd.DataFrame(results, columns=['Model', 'Accuracy', 'Precision', 'Recall', 'F1-Score'])\n"
   ]
  },
  {
   "cell_type": "code",
   "execution_count": null,
   "id": "ed1678fb-7296-47bd-ae01-149a0a397059",
   "metadata": {},
   "outputs": [],
   "source": []
  }
 ],
 "metadata": {
  "kernelspec": {
   "display_name": "Python 3 (ipykernel)",
   "language": "python",
   "name": "python3"
  },
  "language_info": {
   "codemirror_mode": {
    "name": "ipython",
    "version": 3
   },
   "file_extension": ".py",
   "mimetype": "text/x-python",
   "name": "python",
   "nbconvert_exporter": "python",
   "pygments_lexer": "ipython3",
   "version": "3.11.7"
  }
 },
 "nbformat": 4,
 "nbformat_minor": 5
}
